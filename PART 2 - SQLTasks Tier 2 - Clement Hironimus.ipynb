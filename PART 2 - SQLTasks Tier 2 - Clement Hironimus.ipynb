{
 "cells": [
  {
   "cell_type": "code",
   "execution_count": 1,
   "outputs": [],
   "source": [
    "import pandas as pd\n",
    "import sqlite3\n",
    "\n",
    "# Create a connection object to the SQLite database\n",
    "database_file_name = \"sqlite_db_pythonsqlite.db\"\n",
    "sqlite_connection = sqlite3.connect(database_file_name)"
   ],
   "metadata": {
    "collapsed": false,
    "ExecuteTime": {
     "end_time": "2023-09-10T21:05:37.489425Z",
     "start_time": "2023-09-10T21:05:36.980334Z"
    }
   },
   "id": "787497616b0fb625"
  },
  {
   "cell_type": "code",
   "execution_count": 6,
   "outputs": [
    {
     "data": {
      "text/plain": "   facility_name reporting_start_date reporting_end_date  usd_total_revenue\n0     Pool Table           2012-07-03         2012-09-30                270\n1  Snooker Table           2012-07-03         2012-09-30                240\n2   Table Tennis           2012-07-03         2012-09-30                180",
      "text/html": "<div>\n<style scoped>\n    .dataframe tbody tr th:only-of-type {\n        vertical-align: middle;\n    }\n\n    .dataframe tbody tr th {\n        vertical-align: top;\n    }\n\n    .dataframe thead th {\n        text-align: right;\n    }\n</style>\n<table border=\"1\" class=\"dataframe\">\n  <thead>\n    <tr style=\"text-align: right;\">\n      <th></th>\n      <th>facility_name</th>\n      <th>reporting_start_date</th>\n      <th>reporting_end_date</th>\n      <th>usd_total_revenue</th>\n    </tr>\n  </thead>\n  <tbody>\n    <tr>\n      <th>0</th>\n      <td>Pool Table</td>\n      <td>2012-07-03</td>\n      <td>2012-09-30</td>\n      <td>270</td>\n    </tr>\n    <tr>\n      <th>1</th>\n      <td>Snooker Table</td>\n      <td>2012-07-03</td>\n      <td>2012-09-30</td>\n      <td>240</td>\n    </tr>\n    <tr>\n      <th>2</th>\n      <td>Table Tennis</td>\n      <td>2012-07-03</td>\n      <td>2012-09-30</td>\n      <td>180</td>\n    </tr>\n  </tbody>\n</table>\n</div>"
     },
     "execution_count": 6,
     "metadata": {},
     "output_type": "execute_result"
    }
   ],
   "source": [
    "# Q10: Produce a list of facilities with a total revenue less than 1000. The output of facility name and total revenue, sorted by revenue. Remember that there's a different cost for guests and members!\n",
    "\n",
    "\n",
    "question_10_query = \"\"\"\n",
    "-- ASSUMPTION: This doesn't include facility's \"initialoutlay\" and \"monthlymaintenance\" costs when calculating revenue\n",
    "WITH cte AS (\n",
    "\n",
    "    SELECT\n",
    "        facilities.name AS facility_name,\n",
    "\n",
    "        -- Since no start/end date is specified in question, we'll use the earliest & latest booking's \"start/end date\"\n",
    "        STRFTIME('%Y-%m-%d', MIN(bookings.starttime) OVER()) AS reporting_start_date,\n",
    "        STRFTIME('%Y-%m-%d', MAX(bookings.starttime) OVER()) AS reporting_end_date,\n",
    "\n",
    "        -- To get the \"per-half-hour\" cost and how many \"slots\" booked\n",
    "                -- The \"IIF\" is to differentiate between Guest vs Member Cost (Guest always has ID = 0)\n",
    "        IIF(bookings.memid = 0, facilities.guestcost, facilities.membercost) AS usd_revenue_per_half_hour_slot,\n",
    "        bookings.slots AS number_of_slots_booked\n",
    "\n",
    "    FROM main.Bookings AS bookings\n",
    "\n",
    "        -- [many:1] Facility\n",
    "        LEFT JOIN main.Facilities AS facilities\n",
    "            ON bookings.facid = facilities.facid\n",
    "\n",
    "        -- [many:1] Member or Guest\n",
    "        LEFT JOIN main.Members AS members\n",
    "            ON bookings.memid = members.memid\n",
    "\n",
    ")\n",
    "SELECT\n",
    "    facility_name,\n",
    "    reporting_start_date,\n",
    "    reporting_end_date,\n",
    "    SUM(usd_revenue_per_half_hour_slot * number_of_slots_booked) AS usd_total_revenue\n",
    "\n",
    "FROM cte\n",
    "\n",
    "GROUP BY\n",
    "    facility_name,\n",
    "    reporting_start_date,\n",
    "    reporting_end_date\n",
    "HAVING usd_total_revenue < 1000\n",
    ";\n",
    "\"\"\"\n",
    "question_10_df = pd.read_sql(question_10_query, sqlite_connection)\n",
    "question_10_df"
   ],
   "metadata": {
    "collapsed": false,
    "ExecuteTime": {
     "end_time": "2023-09-10T21:09:15.423657Z",
     "start_time": "2023-09-10T21:09:15.396522Z"
    }
   },
   "id": "5a7616b63599f972"
  },
  {
   "cell_type": "code",
   "execution_count": 7,
   "outputs": [
    {
     "data": {
      "text/plain": "    memid     member_surname memnber_firstname  member_referrer_memid  \\\n0      15              Bader          Florence                      9   \n1      12              Baker              Anne                      9   \n2      16              Baker           Timothy                     13   \n3       8             Boothe               Tim                      3   \n4       5            Butters            Gerald                      1   \n5      22             Coplin              Joan                     16   \n6      36            Crumpet             Erica                      2   \n7       7               Dare             Nancy                      4   \n8      20            Genting           Matthew                      5   \n9      35               Hunt              John                     30   \n10     11              Jones             David                      4   \n11     26              Jones           Douglas                     11   \n12      4           Joplette            Janice                      1   \n13     21          Mackenzie              Anna                      1   \n14     10               Owen           Charles                      1   \n15     17             Pinker             David                     13   \n16     30            Purview         Millicent                      2   \n17     27             Rumney         Henrietta                     20   \n18     24             Sarwin         Ramnaresh                     15   \n19     14              Smith              Jack                      1   \n20      9           Stibbons            Ponder                      6   \n21     29  Worthington-Smyth             Henry                      2   \n\n   member_referrer_first_last_name  \n0                  Ponder Stibbons  \n1                  Ponder Stibbons  \n2                   Jemima Farrell  \n3                       Tim Rownam  \n4                     Darren Smith  \n5                    Timothy Baker  \n6                      Tracy Smith  \n7                  Janice Joplette  \n8                   Gerald Butters  \n9                Millicent Purview  \n10                 Janice Joplette  \n11                     David Jones  \n12                    Darren Smith  \n13                    Darren Smith  \n14                    Darren Smith  \n15                  Jemima Farrell  \n16                     Tracy Smith  \n17                 Matthew Genting  \n18                  Florence Bader  \n19                    Darren Smith  \n20                    Burton Tracy  \n21                     Tracy Smith  ",
      "text/html": "<div>\n<style scoped>\n    .dataframe tbody tr th:only-of-type {\n        vertical-align: middle;\n    }\n\n    .dataframe tbody tr th {\n        vertical-align: top;\n    }\n\n    .dataframe thead th {\n        text-align: right;\n    }\n</style>\n<table border=\"1\" class=\"dataframe\">\n  <thead>\n    <tr style=\"text-align: right;\">\n      <th></th>\n      <th>memid</th>\n      <th>member_surname</th>\n      <th>memnber_firstname</th>\n      <th>member_referrer_memid</th>\n      <th>member_referrer_first_last_name</th>\n    </tr>\n  </thead>\n  <tbody>\n    <tr>\n      <th>0</th>\n      <td>15</td>\n      <td>Bader</td>\n      <td>Florence</td>\n      <td>9</td>\n      <td>Ponder Stibbons</td>\n    </tr>\n    <tr>\n      <th>1</th>\n      <td>12</td>\n      <td>Baker</td>\n      <td>Anne</td>\n      <td>9</td>\n      <td>Ponder Stibbons</td>\n    </tr>\n    <tr>\n      <th>2</th>\n      <td>16</td>\n      <td>Baker</td>\n      <td>Timothy</td>\n      <td>13</td>\n      <td>Jemima Farrell</td>\n    </tr>\n    <tr>\n      <th>3</th>\n      <td>8</td>\n      <td>Boothe</td>\n      <td>Tim</td>\n      <td>3</td>\n      <td>Tim Rownam</td>\n    </tr>\n    <tr>\n      <th>4</th>\n      <td>5</td>\n      <td>Butters</td>\n      <td>Gerald</td>\n      <td>1</td>\n      <td>Darren Smith</td>\n    </tr>\n    <tr>\n      <th>5</th>\n      <td>22</td>\n      <td>Coplin</td>\n      <td>Joan</td>\n      <td>16</td>\n      <td>Timothy Baker</td>\n    </tr>\n    <tr>\n      <th>6</th>\n      <td>36</td>\n      <td>Crumpet</td>\n      <td>Erica</td>\n      <td>2</td>\n      <td>Tracy Smith</td>\n    </tr>\n    <tr>\n      <th>7</th>\n      <td>7</td>\n      <td>Dare</td>\n      <td>Nancy</td>\n      <td>4</td>\n      <td>Janice Joplette</td>\n    </tr>\n    <tr>\n      <th>8</th>\n      <td>20</td>\n      <td>Genting</td>\n      <td>Matthew</td>\n      <td>5</td>\n      <td>Gerald Butters</td>\n    </tr>\n    <tr>\n      <th>9</th>\n      <td>35</td>\n      <td>Hunt</td>\n      <td>John</td>\n      <td>30</td>\n      <td>Millicent Purview</td>\n    </tr>\n    <tr>\n      <th>10</th>\n      <td>11</td>\n      <td>Jones</td>\n      <td>David</td>\n      <td>4</td>\n      <td>Janice Joplette</td>\n    </tr>\n    <tr>\n      <th>11</th>\n      <td>26</td>\n      <td>Jones</td>\n      <td>Douglas</td>\n      <td>11</td>\n      <td>David Jones</td>\n    </tr>\n    <tr>\n      <th>12</th>\n      <td>4</td>\n      <td>Joplette</td>\n      <td>Janice</td>\n      <td>1</td>\n      <td>Darren Smith</td>\n    </tr>\n    <tr>\n      <th>13</th>\n      <td>21</td>\n      <td>Mackenzie</td>\n      <td>Anna</td>\n      <td>1</td>\n      <td>Darren Smith</td>\n    </tr>\n    <tr>\n      <th>14</th>\n      <td>10</td>\n      <td>Owen</td>\n      <td>Charles</td>\n      <td>1</td>\n      <td>Darren Smith</td>\n    </tr>\n    <tr>\n      <th>15</th>\n      <td>17</td>\n      <td>Pinker</td>\n      <td>David</td>\n      <td>13</td>\n      <td>Jemima Farrell</td>\n    </tr>\n    <tr>\n      <th>16</th>\n      <td>30</td>\n      <td>Purview</td>\n      <td>Millicent</td>\n      <td>2</td>\n      <td>Tracy Smith</td>\n    </tr>\n    <tr>\n      <th>17</th>\n      <td>27</td>\n      <td>Rumney</td>\n      <td>Henrietta</td>\n      <td>20</td>\n      <td>Matthew Genting</td>\n    </tr>\n    <tr>\n      <th>18</th>\n      <td>24</td>\n      <td>Sarwin</td>\n      <td>Ramnaresh</td>\n      <td>15</td>\n      <td>Florence Bader</td>\n    </tr>\n    <tr>\n      <th>19</th>\n      <td>14</td>\n      <td>Smith</td>\n      <td>Jack</td>\n      <td>1</td>\n      <td>Darren Smith</td>\n    </tr>\n    <tr>\n      <th>20</th>\n      <td>9</td>\n      <td>Stibbons</td>\n      <td>Ponder</td>\n      <td>6</td>\n      <td>Burton Tracy</td>\n    </tr>\n    <tr>\n      <th>21</th>\n      <td>29</td>\n      <td>Worthington-Smyth</td>\n      <td>Henry</td>\n      <td>2</td>\n      <td>Tracy Smith</td>\n    </tr>\n  </tbody>\n</table>\n</div>"
     },
     "execution_count": 7,
     "metadata": {},
     "output_type": "execute_result"
    }
   ],
   "source": [
    "# Q11: Produce a report of members and who recommended them in alphabetic surname,firstname order\n",
    "\n",
    "question_11_query = \"\"\"\n",
    "SELECT\n",
    "\n",
    "    -- Member\n",
    "    members.memid,\n",
    "    members.surname AS member_surname,\n",
    "    members.firstname AS memnber_firstname,\n",
    "\n",
    "    -- Referrer\n",
    "    member_referrer.memid AS member_referrer_memid,\n",
    "    (member_referrer.firstname || ' ' || member_referrer.surname) AS member_referrer_first_last_name\n",
    "\n",
    "FROM main.Members AS members\n",
    "\n",
    "    -- Get Member who Referred\n",
    "    LEFT JOIN main.Members AS member_referrer\n",
    "        ON members.recommendedby = member_referrer.memid\n",
    "\n",
    "WHERE\n",
    "    (members.recommendedby IS NOT NULL AND members.recommendedby != '') -- To get members who got referred\n",
    "\n",
    "ORDER BY\n",
    "    members.surname,\n",
    "    members.firstname\n",
    ";\n",
    "\"\"\"\n",
    "question_11_df = pd.read_sql(question_11_query, sqlite_connection)\n",
    "question_11_df"
   ],
   "metadata": {
    "collapsed": false,
    "ExecuteTime": {
     "end_time": "2023-09-10T21:09:28.058582Z",
     "start_time": "2023-09-10T21:09:28.044605Z"
    }
   },
   "id": "7cf8e499af1cc128"
  },
  {
   "cell_type": "code",
   "execution_count": 8,
   "outputs": [
    {
     "data": {
      "text/plain": "     facility_name reporting_start_date reporting_end_date  \\\n0  Badminton Court           2012-07-05         2012-09-30   \n1   Tennis Court 1           2012-07-04         2012-09-30   \n2   Massage Room 1           2012-07-03         2012-09-30   \n3   Tennis Court 2           2012-07-07         2012-09-30   \n4    Snooker Table           2012-07-03         2012-09-30   \n5       Pool Table           2012-07-03         2012-09-30   \n6     Table Tennis           2012-07-03         2012-09-30   \n7     Squash Court           2012-07-04         2012-09-30   \n8   Massage Room 2           2012-07-11         2012-09-28   \n\n   facility_usage_total_hours_by_members  \n0                                  543.0  \n1                                  478.5  \n2                                  442.0  \n3                                  441.0  \n4                                  430.0  \n5                                  428.0  \n6                                  397.0  \n7                                  209.0  \n8                                   27.0  ",
      "text/html": "<div>\n<style scoped>\n    .dataframe tbody tr th:only-of-type {\n        vertical-align: middle;\n    }\n\n    .dataframe tbody tr th {\n        vertical-align: top;\n    }\n\n    .dataframe thead th {\n        text-align: right;\n    }\n</style>\n<table border=\"1\" class=\"dataframe\">\n  <thead>\n    <tr style=\"text-align: right;\">\n      <th></th>\n      <th>facility_name</th>\n      <th>reporting_start_date</th>\n      <th>reporting_end_date</th>\n      <th>facility_usage_total_hours_by_members</th>\n    </tr>\n  </thead>\n  <tbody>\n    <tr>\n      <th>0</th>\n      <td>Badminton Court</td>\n      <td>2012-07-05</td>\n      <td>2012-09-30</td>\n      <td>543.0</td>\n    </tr>\n    <tr>\n      <th>1</th>\n      <td>Tennis Court 1</td>\n      <td>2012-07-04</td>\n      <td>2012-09-30</td>\n      <td>478.5</td>\n    </tr>\n    <tr>\n      <th>2</th>\n      <td>Massage Room 1</td>\n      <td>2012-07-03</td>\n      <td>2012-09-30</td>\n      <td>442.0</td>\n    </tr>\n    <tr>\n      <th>3</th>\n      <td>Tennis Court 2</td>\n      <td>2012-07-07</td>\n      <td>2012-09-30</td>\n      <td>441.0</td>\n    </tr>\n    <tr>\n      <th>4</th>\n      <td>Snooker Table</td>\n      <td>2012-07-03</td>\n      <td>2012-09-30</td>\n      <td>430.0</td>\n    </tr>\n    <tr>\n      <th>5</th>\n      <td>Pool Table</td>\n      <td>2012-07-03</td>\n      <td>2012-09-30</td>\n      <td>428.0</td>\n    </tr>\n    <tr>\n      <th>6</th>\n      <td>Table Tennis</td>\n      <td>2012-07-03</td>\n      <td>2012-09-30</td>\n      <td>397.0</td>\n    </tr>\n    <tr>\n      <th>7</th>\n      <td>Squash Court</td>\n      <td>2012-07-04</td>\n      <td>2012-09-30</td>\n      <td>209.0</td>\n    </tr>\n    <tr>\n      <th>8</th>\n      <td>Massage Room 2</td>\n      <td>2012-07-11</td>\n      <td>2012-09-28</td>\n      <td>27.0</td>\n    </tr>\n  </tbody>\n</table>\n</div>"
     },
     "execution_count": 8,
     "metadata": {},
     "output_type": "execute_result"
    }
   ],
   "source": [
    "# Q12: Find the facilities with their usage by member, but not guests\n",
    "question_12_query = \"\"\"\n",
    "SELECT\n",
    "    facilities.name AS facility_name,\n",
    "\n",
    "    -- Since Question didn't specify timeframe, assuming it's from earliest & latest booking date\n",
    "    STRFTIME('%Y-%m-%d', MIN(bookings.starttime)) AS reporting_start_date,\n",
    "    STRFTIME('%Y-%m-%d', MAX(bookings.starttime)) AS reporting_end_date,\n",
    "\n",
    "    SUM(bookings.slots * 0.5) AS facility_usage_total_hours_by_members\n",
    "\n",
    "FROM main.Bookings AS bookings\n",
    "\n",
    "    -- [many:1] Facility\n",
    "    LEFT JOIN main.Facilities AS facilities\n",
    "        ON bookings.facid = facilities.facid\n",
    "WHERE\n",
    "    memid != 0 -- To filter out Guest bookings (memid = 0)\n",
    "\n",
    "GROUP BY\n",
    "    facilities.name\n",
    "\n",
    "ORDER BY\n",
    "    facility_usage_total_hours_by_members DESC\n",
    "\n",
    ";\n",
    "\"\"\"\n",
    "question_12_df = pd.read_sql(question_12_query, sqlite_connection)\n",
    "question_12_df"
   ],
   "metadata": {
    "collapsed": false,
    "ExecuteTime": {
     "end_time": "2023-09-10T21:10:33.918251Z",
     "start_time": "2023-09-10T21:10:33.901608Z"
    }
   },
   "id": "c18184161b21bca6"
  },
  {
   "cell_type": "code",
   "execution_count": 9,
   "outputs": [
    {
     "data": {
      "text/plain": "  facility_usage_month_year  total_hours_usage_by_members\n0                   07-2012                         530.5\n1                   08-2012                        1265.5\n2                   09-2012                        1599.5",
      "text/html": "<div>\n<style scoped>\n    .dataframe tbody tr th:only-of-type {\n        vertical-align: middle;\n    }\n\n    .dataframe tbody tr th {\n        vertical-align: top;\n    }\n\n    .dataframe thead th {\n        text-align: right;\n    }\n</style>\n<table border=\"1\" class=\"dataframe\">\n  <thead>\n    <tr style=\"text-align: right;\">\n      <th></th>\n      <th>facility_usage_month_year</th>\n      <th>total_hours_usage_by_members</th>\n    </tr>\n  </thead>\n  <tbody>\n    <tr>\n      <th>0</th>\n      <td>07-2012</td>\n      <td>530.5</td>\n    </tr>\n    <tr>\n      <th>1</th>\n      <td>08-2012</td>\n      <td>1265.5</td>\n    </tr>\n    <tr>\n      <th>2</th>\n      <td>09-2012</td>\n      <td>1599.5</td>\n    </tr>\n  </tbody>\n</table>\n</div>"
     },
     "execution_count": 9,
     "metadata": {},
     "output_type": "execute_result"
    }
   ],
   "source": [
    "# Q13: Find the facilities usage by month, but not guests\n",
    "question_13_query = \"\"\"\n",
    "-- ASSUMPTION: Total hours of usage across all facilities\n",
    "SELECT\n",
    "\n",
    "    -- Since Question didn't specify timeframe, assuming it's from earliest & latest booking date\n",
    "    STRFTIME('%m-%Y', bookings.starttime) AS facility_usage_month_year,\n",
    "\n",
    "    SUM(bookings.slots * 0.5) AS total_hours_usage_by_members\n",
    "\n",
    "FROM main.Bookings AS bookings\n",
    "\n",
    "    -- [many:1] Facility\n",
    "    LEFT JOIN main.Facilities AS facilities\n",
    "        ON bookings.facid = facilities.facid\n",
    "WHERE\n",
    "    memid != 0 -- To filter out Guest bookings (memid = 0)\n",
    "\n",
    "GROUP BY\n",
    "    STRFTIME('%m-%Y', bookings.starttime)\n",
    "\n",
    "ORDER BY\n",
    "    facility_usage_month_year\n",
    ";\n",
    "\"\"\"\n",
    "question_13_df = pd.read_sql(question_13_query, sqlite_connection)\n",
    "question_13_df"
   ],
   "metadata": {
    "collapsed": false,
    "ExecuteTime": {
     "end_time": "2023-09-10T21:10:57.171387Z",
     "start_time": "2023-09-10T21:10:57.147090Z"
    }
   },
   "id": "4896953dd1353103"
  },
  {
   "cell_type": "code",
   "execution_count": null,
   "outputs": [],
   "source": [],
   "metadata": {
    "collapsed": false
   },
   "id": "e5d49f94ea95e4"
  }
 ],
 "metadata": {
  "kernelspec": {
   "display_name": "Python 3",
   "language": "python",
   "name": "python3"
  },
  "language_info": {
   "codemirror_mode": {
    "name": "ipython",
    "version": 2
   },
   "file_extension": ".py",
   "mimetype": "text/x-python",
   "name": "python",
   "nbconvert_exporter": "python",
   "pygments_lexer": "ipython2",
   "version": "2.7.6"
  }
 },
 "nbformat": 4,
 "nbformat_minor": 5
}
